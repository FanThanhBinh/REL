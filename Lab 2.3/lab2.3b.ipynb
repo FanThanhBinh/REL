{
 "cells": [
  {
   "cell_type": "code",
   "execution_count": 1,
   "metadata": {},
   "outputs": [],
   "source": [
    "import numpy as np"
   ]
  },
  {
   "cell_type": "code",
   "execution_count": 2,
   "metadata": {},
   "outputs": [],
   "source": [
    "class GridWorld:\n",
    "    def __init__(self):\n",
    "        self.grid_size = (3, 3)  # Kích thước lưới 3x3\n",
    "        self.num_actions = 4  # Số lượng hành động: Up, Down, Left, Right\n",
    "        self.start_state = (0, 0)  # Trạng thái bắt đầu ở góc trên bên trái\n",
    "\n",
    "    def step(self, state, action):\n",
    "        \"\"\"Xác định động lực của môi trường.\"\"\"\n",
    "        row, col = state  # Giải nén tọa độ hàng và cột từ state\n",
    "\n",
    "        if action == 0:  # Up\n",
    "            row = max(0, row - 1)\n",
    "        elif action == 1:  # Down\n",
    "            row = min(self.grid_size[0] - 1, row + 1)\n",
    "        elif action == 2:  # Left\n",
    "            col = max(0, col - 1)\n",
    "        elif action == 3:  # Right\n",
    "            col = min(self.grid_size[1] - 1, col + 1)\n",
    "\n",
    "        next_state = (row, col)\n",
    "        return next_state\n",
    "\n",
    "class SampleModel:\n",
    "    def __init__(self, environment):\n",
    "        \"\"\"Khởi tạo với môi trường GridWorld.\"\"\"\n",
    "        self.environment = environment\n",
    "\n",
    "    def simulate_step(self, state, action):\n",
    "        \"\"\"Mô phỏng bước tiếp theo dựa trên hành động đã chọn.\"\"\"\n",
    "        next_state = self.environment.step(state, action)\n",
    "        return next_state"
   ]
  },
  {
   "cell_type": "code",
   "execution_count": 3,
   "metadata": {},
   "outputs": [
    {
     "name": "stdout",
     "output_type": "stream",
     "text": [
      "Current State: (0, 0)\n",
      "Action: 1\n",
      "Next State: (1, 0)\n"
     ]
    }
   ],
   "source": [
    "# Tạo môi trường grid world\n",
    "grid_world = GridWorld()\n",
    "\n",
    "# Tạo mẫu mô phỏng cho môi trường grid world\n",
    "sample_model = SampleModel(grid_world)\n",
    "\n",
    "# Mô phỏng một bước trong môi trường\n",
    "current_state = (0, 0)  # Bắt đầu từ góc trên cùng bên trái\n",
    "action = np.random.choice(grid_world.num_actions)  # Chọn hành động ngẫu nhiên\n",
    "next_state = sample_model.simulate_step(current_state, action)  # Mô phỏng bước tiếp theo\n",
    "\n",
    "# In ra kết quả của quá trình mô phỏng\n",
    "print(\"Current State:\", current_state)\n",
    "print(\"Action:\", action)\n",
    "print(\"Next State:\", next_state)"
   ]
  },
  {
   "cell_type": "code",
   "execution_count": null,
   "metadata": {},
   "outputs": [],
   "source": []
  }
 ],
 "metadata": {
  "kernelspec": {
   "display_name": ".venv",
   "language": "python",
   "name": "python3"
  },
  "language_info": {
   "codemirror_mode": {
    "name": "ipython",
    "version": 3
   },
   "file_extension": ".py",
   "mimetype": "text/x-python",
   "name": "python",
   "nbconvert_exporter": "python",
   "pygments_lexer": "ipython3",
   "version": "3.11.9"
  }
 },
 "nbformat": 4,
 "nbformat_minor": 2
}
