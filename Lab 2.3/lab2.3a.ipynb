{
 "cells": [
  {
   "cell_type": "code",
   "execution_count": 1,
   "metadata": {},
   "outputs": [],
   "source": [
    "import numpy as np"
   ]
  },
  {
   "cell_type": "code",
   "execution_count": 2,
   "metadata": {},
   "outputs": [],
   "source": [
    "class Bandit:\n",
    "    def __init__(self, true_means):\n",
    "        self.true_means = true_means\n",
    "\n",
    "    def pull_arm(self, arm):\n",
    "        return np.random.normal(self.true_means[arm], 1)\n",
    "\n",
    "class DistributionModel:\n",
    "    def __init__(self, num_arms):\n",
    "        self.num_arms = num_arms\n",
    "        self.mean_rewards = np.zeros(num_arms)\n",
    "        self.variance_rewards = np.ones(num_arms)\n",
    "        self.arm_counts = np.zeros(num_arms)  # Đếm số lần kéo từng arm\n",
    "\n",
    "    # Update mean and variance of rewards for the selected arm\n",
    "    def update_distribution(self, arm, reward):\n",
    "        # Cập nhật số lần kéo của arm\n",
    "        self.arm_counts[arm] += 1\n",
    "\n",
    "        # Tính toán mean mới bằng công thức trung bình lũy thừa\n",
    "        old_mean = self.mean_rewards[arm]\n",
    "        new_mean = old_mean + (reward - old_mean) / self.arm_counts[arm]\n",
    "        self.mean_rewards[arm] = new_mean\n",
    "\n",
    "        # Tính toán variance mới\n",
    "        if self.arm_counts[arm] > 1:\n",
    "            self.variance_rewards[arm] = (\n",
    "                (self.variance_rewards[arm] * (self.arm_counts[arm] - 1) +\n",
    "                 (reward - new_mean) ** 2) / self.arm_counts[arm]\n",
    "            )"
   ]
  },
  {
   "cell_type": "code",
   "execution_count": 3,
   "metadata": {},
   "outputs": [
    {
     "name": "stdout",
     "output_type": "stream",
     "text": [
      "Updated Distribution Model:\n",
      "Mean Rewards: [0.96658202 2.00365097]\n",
      "Variance of Rewards: [0.97884204 0.96875667]\n"
     ]
    }
   ],
   "source": [
    "# Define the true means of the bandit arms\n",
    "true_means = [1.0, 2.0]\n",
    "\n",
    "# Create a bandit environment with the true means\n",
    "bandit = Bandit(true_means)\n",
    "\n",
    "# Create a distribution model for the bandit\n",
    "distribution_model = DistributionModel(num_arms=len(true_means))\n",
    "\n",
    "# Pull arms and update distribution model\n",
    "num_pulls = 1000\n",
    "for _ in range(num_pulls):\n",
    "    # Randomly select an arm to pull\n",
    "    arm = np.random.randint(0, len(true_means))\n",
    "    \n",
    "    # Pull the selected arm and observe reward\n",
    "    reward = bandit.pull_arm(arm)\n",
    "    \n",
    "    # Update distribution model\n",
    "    distribution_model.update_distribution(arm, reward)\n",
    "\n",
    "# Print the updated distribution model\n",
    "print(\"Updated Distribution Model:\")\n",
    "print(\"Mean Rewards:\", distribution_model.mean_rewards)\n",
    "print(\"Variance of Rewards:\", distribution_model.variance_rewards)"
   ]
  },
  {
   "cell_type": "code",
   "execution_count": null,
   "metadata": {},
   "outputs": [],
   "source": []
  }
 ],
 "metadata": {
  "kernelspec": {
   "display_name": ".venv",
   "language": "python",
   "name": "python3"
  },
  "language_info": {
   "codemirror_mode": {
    "name": "ipython",
    "version": 3
   },
   "file_extension": ".py",
   "mimetype": "text/x-python",
   "name": "python",
   "nbconvert_exporter": "python",
   "pygments_lexer": "ipython3",
   "version": "3.11.9"
  }
 },
 "nbformat": 4,
 "nbformat_minor": 2
}
