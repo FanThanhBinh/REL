{
 "cells": [
  {
   "cell_type": "code",
   "execution_count": 40,
   "metadata": {},
   "outputs": [],
   "source": [
    "!pip install -q gymnasium"
   ]
  },
  {
   "cell_type": "code",
   "execution_count": 46,
   "metadata": {},
   "outputs": [
    {
     "name": "stdout",
     "output_type": "stream",
     "text": [
      "Episode 100000/1000000\n",
      "Episode 200000/1000000\n",
      "Episode 300000/1000000\n",
      "Episode 400000/1000000\n",
      "Episode 500000/1000000\n",
      "Episode 600000/1000000\n",
      "Episode 700000/1000000\n",
      "Episode 800000/1000000\n",
      "Episode 900000/1000000\n",
      "Episode 1000000/1000000\n",
      "State: (13, 1, 0), Actions: [-0.77512777 -0.57344667]\n",
      "State: (17, 1, 0), Actions: [-0.66033463 -0.68649613]\n",
      "State: (8, 10, 0), Actions: [-0.5959596 -0.3261522]\n",
      "State: (14, 8, 0), Actions: [-0.48737864 -0.39336137]\n",
      "State: (18, 3, 0), Actions: [ 0.15953654 -0.59633028]\n",
      "State: (13, 7, 0), Actions: [-0.42352941 -0.31945107]\n",
      "State: (13, 6, 0), Actions: [-0.14989045 -0.24951267]\n",
      "State: (20, 10, 0), Actions: [ 0.42911711 -0.85859479]\n",
      "State: (18, 10, 0), Actions: [-0.23975662 -0.67743764]\n",
      "State: (12, 10, 0), Actions: [-0.59594007 -0.44078436]\n"
     ]
    }
   ],
   "source": [
    "import gymnasium as gym\n",
    "import numpy as np\n",
    "from collections import defaultdict\n",
    "import random\n",
    "\n",
    "# Khởi tạo môi trường Blackjack\n",
    "env = gym.make('Blackjack-v1', render_mode='ansi')\n",
    "\n",
    "def epsilon_greedy_policy(Q, state, epsilon=0.1):\n",
    "    \"\"\"Chọn hành động dựa trên epsilon-greedy.\"\"\"\n",
    "    if random.uniform(0, 1) < epsilon:\n",
    "        return random.choice([0, 1])  # Chọn ngẫu nhiên giữa Stick và Hit\n",
    "    else:\n",
    "        return np.argmax(Q[state])  # Chọn hành động có Q-value cao nhất\n",
    "\n",
    "def generate_episode(Q, env, epsilon=0.1):\n",
    "    \"\"\"Tạo một episode theo chính sách epsilon-greedy.\"\"\"\n",
    "    episode = []\n",
    "    state, info = env.reset()  # Reset trả về (state, info)\n",
    "    done = False\n",
    "\n",
    "    while not done:\n",
    "        action = epsilon_greedy_policy(Q, state, epsilon)\n",
    "        next_state, reward, done, truncated, info = env.step(action)\n",
    "        episode.append((state, action, reward))\n",
    "        state = next_state\n",
    "\n",
    "    return episode\n",
    "\n",
    "def monte_carlo_control(env, num_episodes=1000000, gamma=1.0, epsilon=0.1):\n",
    "    \"\"\"Thuật toán Monte Carlo Control với epsilon-greedy policy.\"\"\"\n",
    "    returns_sum = defaultdict(float)  # Tổng giá trị trả về của từng (state, action)\n",
    "    returns_count = defaultdict(float)  # Số lần gặp từng (state, action)\n",
    "    Q = defaultdict(lambda: np.zeros(env.action_space.n))  # Q-table\n",
    "\n",
    "    for i_episode in range(1, num_episodes + 1):\n",
    "        if i_episode % 100000 == 0:\n",
    "            print(f\"Episode {i_episode}/{num_episodes}\")\n",
    "\n",
    "        episode = generate_episode(Q, env, epsilon)\n",
    "        G = 0  # Giá trị trả về tích lũy (Return)\n",
    "        visited_state_action_pairs = set()  # Để theo dõi các cặp (state, action) đã gặp\n",
    "\n",
    "        # Duyệt ngược qua episode để cập nhật Q-values\n",
    "        for state, action, reward in reversed(episode):\n",
    "            G = gamma * G + reward  # Tính Return từ cuối episode về đầu\n",
    "            if (state, action) not in visited_state_action_pairs:\n",
    "                visited_state_action_pairs.add((state, action))\n",
    "                # Cập nhật tổng Return và số lần gặp của (state, action)\n",
    "                returns_sum[(state, action)] += G\n",
    "                returns_count[(state, action)] += 1\n",
    "                # Cập nhật Q-value trung bình\n",
    "                Q[state][action] = returns_sum[(state, action)] / returns_count[(state, action)]\n",
    "\n",
    "    return Q\n",
    "\n",
    "# Chạy Monte Carlo Control cho Blackjack\n",
    "Q = monte_carlo_control(env)\n",
    "\n",
    "# Hiển thị một số Q-values đã học\n",
    "for state, actions in list(Q.items())[:10]:\n",
    "    print(f\"State: {state}, Actions: {actions}\")\n"
   ]
  }
 ],
 "metadata": {
  "kernelspec": {
   "display_name": ".venv",
   "language": "python",
   "name": "python3"
  },
  "language_info": {
   "codemirror_mode": {
    "name": "ipython",
    "version": 3
   },
   "file_extension": ".py",
   "mimetype": "text/x-python",
   "name": "python",
   "nbconvert_exporter": "python",
   "pygments_lexer": "ipython3",
   "version": "3.11.9"
  }
 },
 "nbformat": 4,
 "nbformat_minor": 2
}
