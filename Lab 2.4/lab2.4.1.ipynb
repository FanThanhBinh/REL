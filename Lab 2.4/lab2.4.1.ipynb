{
 "cells": [
  {
   "cell_type": "code",
   "execution_count": 1,
   "metadata": {},
   "outputs": [],
   "source": [
    "import numpy as np"
   ]
  },
  {
   "cell_type": "code",
   "execution_count": 2,
   "metadata": {},
   "outputs": [],
   "source": [
    "class GridWorld:\n",
    "    def __init__(self):\n",
    "        self.grid_size = (4, 4)  # Kích thước lưới 4x4\n",
    "        self.num_actions = 4  # Số lượng hành động: Up, Down, Left, Right\n",
    "        self.start_state = (0, 0)  # Trạng thái bắt đầu\n",
    "        self.goal_state = (3, 3)  # Trạng thái đích\n",
    "\n",
    "    def step(self, state, action):\n",
    "        \"\"\"Xác định động lực của môi trường.\"\"\"\n",
    "        row, col = state\n",
    "\n",
    "        if action == 0:  # Up\n",
    "            row = max(0, row - 1)\n",
    "        elif action == 1:  # Down\n",
    "            row = min(self.grid_size[0] - 1, row + 1)\n",
    "        elif action == 2:  # Left\n",
    "            col = max(0, col - 1)\n",
    "        elif action == 3:  # Right\n",
    "            col = min(self.grid_size[1] - 1, col + 1)\n",
    "\n",
    "        next_state = (row, col)\n",
    "        reward = 0\n",
    "        if next_state == self.goal_state:\n",
    "            reward = 1  # Nhận phần thưởng khi đến trạng thái đích\n",
    "\n",
    "        return next_state, reward"
   ]
  },
  {
   "cell_type": "code",
   "execution_count": 3,
   "metadata": {},
   "outputs": [
    {
     "name": "stdout",
     "output_type": "stream",
     "text": [
      "Learned Q-value Function:\n",
      "[[[0.42277614 0.24699751 0.4277447  0.52243877]\n",
      "  [0.48500505 0.35605342 0.39019997 0.58853174]\n",
      "  [0.54593413 0.38434564 0.45915653 0.67178999]\n",
      "  [0.63050378 0.7617457  0.54381708 0.62583074]]\n",
      "\n",
      " [[0.39332681 0.         0.         0.        ]\n",
      "  [0.46883541 0.         0.         0.04308315]\n",
      "  [0.58805111 0.00515822 0.1239044  0.20832903]\n",
      "  [0.59837119 0.82570472 0.41883791 0.71997597]]\n",
      "\n",
      " [[0.         0.         0.         0.        ]\n",
      "  [0.00784697 0.         0.         0.        ]\n",
      "  [0.45142986 0.         0.         0.09      ]\n",
      "  [0.67302946 1.         0.29730233 0.87208858]]\n",
      "\n",
      " [[0.         0.         0.         0.        ]\n",
      "  [0.         0.         0.         0.        ]\n",
      "  [0.         0.         0.         0.        ]\n",
      "  [0.         0.         0.         0.        ]]]\n"
     ]
    }
   ],
   "source": [
    "def epsilon_greedy_policy(Q, state, epsilon):\n",
    "    if np.random.rand() < epsilon:\n",
    "        return np.random.choice(len(Q[state]))  # Chọn ngẫu nhiên (explore)\n",
    "    else:\n",
    "        return np.argmax(Q[state])  # Chọn hành động có Q-value cao nhất (exploit)\n",
    "\n",
    "# Thuật toán SARSA để cập nhật Q-values\n",
    "def sarsa(grid_world, num_episodes, alpha, gamma, epsilon):\n",
    "    Q = np.zeros((grid_world.grid_size[0], grid_world.grid_size[1], grid_world.num_actions))\n",
    "\n",
    "    for _ in range(num_episodes):\n",
    "        state = grid_world.start_state\n",
    "        action = epsilon_greedy_policy(Q, state, epsilon)\n",
    "\n",
    "        done = False\n",
    "        while not done:\n",
    "            next_state, reward = grid_world.step(state, action)\n",
    "            next_action = epsilon_greedy_policy(Q, next_state, epsilon)\n",
    "\n",
    "            # Cập nhật Q-value theo công thức SARSA\n",
    "            Q[state][action] += alpha * (\n",
    "                reward + gamma * Q[next_state][next_action] - Q[state][action]\n",
    "            )\n",
    "\n",
    "            state = next_state\n",
    "            action = next_action\n",
    "\n",
    "            # Kiểm tra nếu đạt đến trạng thái đích\n",
    "            if state == grid_world.goal_state:\n",
    "                done = True\n",
    "\n",
    "    return Q\n",
    "\n",
    "# Tạo môi trường grid world\n",
    "grid_world = GridWorld()\n",
    "\n",
    "# Thiết lập các hyperparameters\n",
    "num_episodes = 1000\n",
    "alpha = 0.1  # Learning rate\n",
    "gamma = 0.9  # Discount factor\n",
    "epsilon = 0.1  # Epsilon-greedy exploration\n",
    "\n",
    "# Chạy thuật toán SARSA để học chính sách tối ưu\n",
    "Q = sarsa(grid_world, num_episodes, alpha, gamma, epsilon)\n",
    "\n",
    "# In ra hàm Q-value đã học\n",
    "print(\"Learned Q-value Function:\")\n",
    "print(Q)"
   ]
  },
  {
   "cell_type": "code",
   "execution_count": null,
   "metadata": {},
   "outputs": [],
   "source": []
  }
 ],
 "metadata": {
  "kernelspec": {
   "display_name": ".venv",
   "language": "python",
   "name": "python3"
  },
  "language_info": {
   "codemirror_mode": {
    "name": "ipython",
    "version": 3
   },
   "file_extension": ".py",
   "mimetype": "text/x-python",
   "name": "python",
   "nbconvert_exporter": "python",
   "pygments_lexer": "ipython3",
   "version": "3.11.9"
  }
 },
 "nbformat": 4,
 "nbformat_minor": 2
}
